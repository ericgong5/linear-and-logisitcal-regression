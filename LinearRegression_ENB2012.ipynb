{
  "nbformat": 4,
  "nbformat_minor": 0,
  "metadata": {
    "colab": {
      "provenance": []
    },
    "kernelspec": {
      "name": "python3",
      "display_name": "Python 3"
    },
    "language_info": {
      "name": "python"
    }
  },
  "cells": [
    {
      "cell_type": "markdown",
      "source": [
        "# COMP-551 Mini-Project 1 Linear Regression Page"
      ],
      "metadata": {
        "id": "zSFIzWKKrSus"
      }
    },
    {
      "cell_type": "markdown",
      "source": [
        "# 1. Acquire, preprocess, and analyze the data\n",
        "\n",
        "\n",
        "\n",
        "\n",
        "### 1.1 Acquire Data \n"
      ],
      "metadata": {
        "id": "PlsNznUVraFg"
      }
    },
    {
      "cell_type": "code",
      "source": [
        "import pandas as pd\n",
        "import numpy as np\n",
        "import seaborn as sb\n",
        "import matplotlib.pyplot as plt\n",
        "import copy\n",
        "import warnings\n",
        "import math\n",
        "from pandas import DataFrame\n",
        "\n",
        "warnings.filterwarnings('ignore')\n",
        "\n",
        "\n",
        "# ENB Dataset\n",
        "url1 = \"https://archive.ics.uci.edu/ml/machine-learning-databases/00242/ENB2012_data.xlsx\"\n",
        "enb = pd.read_excel(url1, header=None, skiprows=1)\n",
        "\n",
        "# ENB\n",
        "enb.columns = ['Relative Compactness',\n",
        "               'Surface Area',\n",
        "               'Wall Area',\n",
        "               'Roof Area',\n",
        "               'Overall Height',\n",
        "               'Orientation',\n",
        "               'Glazing Area',\n",
        "               'Glazing Area Distribution',\n",
        "               'Heating Load',\n",
        "               'Cooling Load']\n"
      ],
      "metadata": {
        "id": "od8r9VwTAap0"
      },
      "execution_count": null,
      "outputs": []
    },
    {
      "cell_type": "markdown",
      "source": [
        "## 1.2 Preprocess Data\n",
        "### 1.2.1 ENB Dataset\n",
        "We first remove all the columns with missing values."
      ],
      "metadata": {
        "id": "-KbTZcJ0T24B"
      }
    },
    {
      "cell_type": "code",
      "source": [
        "enb.dropna()"
      ],
      "metadata": {
        "colab": {
          "base_uri": "https://localhost:8080/",
          "height": 480
        },
        "id": "h-scBVw5imhJ",
        "outputId": "ba3cdf77-76a2-4d28-84e2-394b057fac99"
      },
      "execution_count": null,
      "outputs": [
        {
          "output_type": "execute_result",
          "data": {
            "text/plain": [
              "     Relative Compactness  Surface Area  Wall Area  Roof Area  Overall Height  \\\n",
              "0                    0.98         514.5      294.0     110.25             7.0   \n",
              "1                    0.98         514.5      294.0     110.25             7.0   \n",
              "2                    0.98         514.5      294.0     110.25             7.0   \n",
              "3                    0.98         514.5      294.0     110.25             7.0   \n",
              "4                    0.90         563.5      318.5     122.50             7.0   \n",
              "..                    ...           ...        ...        ...             ...   \n",
              "763                  0.64         784.0      343.0     220.50             3.5   \n",
              "764                  0.62         808.5      367.5     220.50             3.5   \n",
              "765                  0.62         808.5      367.5     220.50             3.5   \n",
              "766                  0.62         808.5      367.5     220.50             3.5   \n",
              "767                  0.62         808.5      367.5     220.50             3.5   \n",
              "\n",
              "     Orientation  Glazing Area  Glazing Area Distribution  Heating Load  \\\n",
              "0              2           0.0                          0         15.55   \n",
              "1              3           0.0                          0         15.55   \n",
              "2              4           0.0                          0         15.55   \n",
              "3              5           0.0                          0         15.55   \n",
              "4              2           0.0                          0         20.84   \n",
              "..           ...           ...                        ...           ...   \n",
              "763            5           0.4                          5         17.88   \n",
              "764            2           0.4                          5         16.54   \n",
              "765            3           0.4                          5         16.44   \n",
              "766            4           0.4                          5         16.48   \n",
              "767            5           0.4                          5         16.64   \n",
              "\n",
              "     Cooling Load  \n",
              "0           21.33  \n",
              "1           21.33  \n",
              "2           21.33  \n",
              "3           21.33  \n",
              "4           28.28  \n",
              "..            ...  \n",
              "763         21.40  \n",
              "764         16.88  \n",
              "765         17.11  \n",
              "766         16.61  \n",
              "767         16.03  \n",
              "\n",
              "[768 rows x 10 columns]"
            ],
            "text/html": [
              "\n",
              "  <div id=\"df-d10215e9-8708-421c-ba75-6cfe4e49796f\">\n",
              "    <div class=\"colab-df-container\">\n",
              "      <div>\n",
              "<style scoped>\n",
              "    .dataframe tbody tr th:only-of-type {\n",
              "        vertical-align: middle;\n",
              "    }\n",
              "\n",
              "    .dataframe tbody tr th {\n",
              "        vertical-align: top;\n",
              "    }\n",
              "\n",
              "    .dataframe thead th {\n",
              "        text-align: right;\n",
              "    }\n",
              "</style>\n",
              "<table border=\"1\" class=\"dataframe\">\n",
              "  <thead>\n",
              "    <tr style=\"text-align: right;\">\n",
              "      <th></th>\n",
              "      <th>Relative Compactness</th>\n",
              "      <th>Surface Area</th>\n",
              "      <th>Wall Area</th>\n",
              "      <th>Roof Area</th>\n",
              "      <th>Overall Height</th>\n",
              "      <th>Orientation</th>\n",
              "      <th>Glazing Area</th>\n",
              "      <th>Glazing Area Distribution</th>\n",
              "      <th>Heating Load</th>\n",
              "      <th>Cooling Load</th>\n",
              "    </tr>\n",
              "  </thead>\n",
              "  <tbody>\n",
              "    <tr>\n",
              "      <th>0</th>\n",
              "      <td>0.98</td>\n",
              "      <td>514.5</td>\n",
              "      <td>294.0</td>\n",
              "      <td>110.25</td>\n",
              "      <td>7.0</td>\n",
              "      <td>2</td>\n",
              "      <td>0.0</td>\n",
              "      <td>0</td>\n",
              "      <td>15.55</td>\n",
              "      <td>21.33</td>\n",
              "    </tr>\n",
              "    <tr>\n",
              "      <th>1</th>\n",
              "      <td>0.98</td>\n",
              "      <td>514.5</td>\n",
              "      <td>294.0</td>\n",
              "      <td>110.25</td>\n",
              "      <td>7.0</td>\n",
              "      <td>3</td>\n",
              "      <td>0.0</td>\n",
              "      <td>0</td>\n",
              "      <td>15.55</td>\n",
              "      <td>21.33</td>\n",
              "    </tr>\n",
              "    <tr>\n",
              "      <th>2</th>\n",
              "      <td>0.98</td>\n",
              "      <td>514.5</td>\n",
              "      <td>294.0</td>\n",
              "      <td>110.25</td>\n",
              "      <td>7.0</td>\n",
              "      <td>4</td>\n",
              "      <td>0.0</td>\n",
              "      <td>0</td>\n",
              "      <td>15.55</td>\n",
              "      <td>21.33</td>\n",
              "    </tr>\n",
              "    <tr>\n",
              "      <th>3</th>\n",
              "      <td>0.98</td>\n",
              "      <td>514.5</td>\n",
              "      <td>294.0</td>\n",
              "      <td>110.25</td>\n",
              "      <td>7.0</td>\n",
              "      <td>5</td>\n",
              "      <td>0.0</td>\n",
              "      <td>0</td>\n",
              "      <td>15.55</td>\n",
              "      <td>21.33</td>\n",
              "    </tr>\n",
              "    <tr>\n",
              "      <th>4</th>\n",
              "      <td>0.90</td>\n",
              "      <td>563.5</td>\n",
              "      <td>318.5</td>\n",
              "      <td>122.50</td>\n",
              "      <td>7.0</td>\n",
              "      <td>2</td>\n",
              "      <td>0.0</td>\n",
              "      <td>0</td>\n",
              "      <td>20.84</td>\n",
              "      <td>28.28</td>\n",
              "    </tr>\n",
              "    <tr>\n",
              "      <th>...</th>\n",
              "      <td>...</td>\n",
              "      <td>...</td>\n",
              "      <td>...</td>\n",
              "      <td>...</td>\n",
              "      <td>...</td>\n",
              "      <td>...</td>\n",
              "      <td>...</td>\n",
              "      <td>...</td>\n",
              "      <td>...</td>\n",
              "      <td>...</td>\n",
              "    </tr>\n",
              "    <tr>\n",
              "      <th>763</th>\n",
              "      <td>0.64</td>\n",
              "      <td>784.0</td>\n",
              "      <td>343.0</td>\n",
              "      <td>220.50</td>\n",
              "      <td>3.5</td>\n",
              "      <td>5</td>\n",
              "      <td>0.4</td>\n",
              "      <td>5</td>\n",
              "      <td>17.88</td>\n",
              "      <td>21.40</td>\n",
              "    </tr>\n",
              "    <tr>\n",
              "      <th>764</th>\n",
              "      <td>0.62</td>\n",
              "      <td>808.5</td>\n",
              "      <td>367.5</td>\n",
              "      <td>220.50</td>\n",
              "      <td>3.5</td>\n",
              "      <td>2</td>\n",
              "      <td>0.4</td>\n",
              "      <td>5</td>\n",
              "      <td>16.54</td>\n",
              "      <td>16.88</td>\n",
              "    </tr>\n",
              "    <tr>\n",
              "      <th>765</th>\n",
              "      <td>0.62</td>\n",
              "      <td>808.5</td>\n",
              "      <td>367.5</td>\n",
              "      <td>220.50</td>\n",
              "      <td>3.5</td>\n",
              "      <td>3</td>\n",
              "      <td>0.4</td>\n",
              "      <td>5</td>\n",
              "      <td>16.44</td>\n",
              "      <td>17.11</td>\n",
              "    </tr>\n",
              "    <tr>\n",
              "      <th>766</th>\n",
              "      <td>0.62</td>\n",
              "      <td>808.5</td>\n",
              "      <td>367.5</td>\n",
              "      <td>220.50</td>\n",
              "      <td>3.5</td>\n",
              "      <td>4</td>\n",
              "      <td>0.4</td>\n",
              "      <td>5</td>\n",
              "      <td>16.48</td>\n",
              "      <td>16.61</td>\n",
              "    </tr>\n",
              "    <tr>\n",
              "      <th>767</th>\n",
              "      <td>0.62</td>\n",
              "      <td>808.5</td>\n",
              "      <td>367.5</td>\n",
              "      <td>220.50</td>\n",
              "      <td>3.5</td>\n",
              "      <td>5</td>\n",
              "      <td>0.4</td>\n",
              "      <td>5</td>\n",
              "      <td>16.64</td>\n",
              "      <td>16.03</td>\n",
              "    </tr>\n",
              "  </tbody>\n",
              "</table>\n",
              "<p>768 rows × 10 columns</p>\n",
              "</div>\n",
              "      <button class=\"colab-df-convert\" onclick=\"convertToInteractive('df-d10215e9-8708-421c-ba75-6cfe4e49796f')\"\n",
              "              title=\"Convert this dataframe to an interactive table.\"\n",
              "              style=\"display:none;\">\n",
              "        \n",
              "  <svg xmlns=\"http://www.w3.org/2000/svg\" height=\"24px\"viewBox=\"0 0 24 24\"\n",
              "       width=\"24px\">\n",
              "    <path d=\"M0 0h24v24H0V0z\" fill=\"none\"/>\n",
              "    <path d=\"M18.56 5.44l.94 2.06.94-2.06 2.06-.94-2.06-.94-.94-2.06-.94 2.06-2.06.94zm-11 1L8.5 8.5l.94-2.06 2.06-.94-2.06-.94L8.5 2.5l-.94 2.06-2.06.94zm10 10l.94 2.06.94-2.06 2.06-.94-2.06-.94-.94-2.06-.94 2.06-2.06.94z\"/><path d=\"M17.41 7.96l-1.37-1.37c-.4-.4-.92-.59-1.43-.59-.52 0-1.04.2-1.43.59L10.3 9.45l-7.72 7.72c-.78.78-.78 2.05 0 2.83L4 21.41c.39.39.9.59 1.41.59.51 0 1.02-.2 1.41-.59l7.78-7.78 2.81-2.81c.8-.78.8-2.07 0-2.86zM5.41 20L4 18.59l7.72-7.72 1.47 1.35L5.41 20z\"/>\n",
              "  </svg>\n",
              "      </button>\n",
              "      \n",
              "  <style>\n",
              "    .colab-df-container {\n",
              "      display:flex;\n",
              "      flex-wrap:wrap;\n",
              "      gap: 12px;\n",
              "    }\n",
              "\n",
              "    .colab-df-convert {\n",
              "      background-color: #E8F0FE;\n",
              "      border: none;\n",
              "      border-radius: 50%;\n",
              "      cursor: pointer;\n",
              "      display: none;\n",
              "      fill: #1967D2;\n",
              "      height: 32px;\n",
              "      padding: 0 0 0 0;\n",
              "      width: 32px;\n",
              "    }\n",
              "\n",
              "    .colab-df-convert:hover {\n",
              "      background-color: #E2EBFA;\n",
              "      box-shadow: 0px 1px 2px rgba(60, 64, 67, 0.3), 0px 1px 3px 1px rgba(60, 64, 67, 0.15);\n",
              "      fill: #174EA6;\n",
              "    }\n",
              "\n",
              "    [theme=dark] .colab-df-convert {\n",
              "      background-color: #3B4455;\n",
              "      fill: #D2E3FC;\n",
              "    }\n",
              "\n",
              "    [theme=dark] .colab-df-convert:hover {\n",
              "      background-color: #434B5C;\n",
              "      box-shadow: 0px 1px 3px 1px rgba(0, 0, 0, 0.15);\n",
              "      filter: drop-shadow(0px 1px 2px rgba(0, 0, 0, 0.3));\n",
              "      fill: #FFFFFF;\n",
              "    }\n",
              "  </style>\n",
              "\n",
              "      <script>\n",
              "        const buttonEl =\n",
              "          document.querySelector('#df-d10215e9-8708-421c-ba75-6cfe4e49796f button.colab-df-convert');\n",
              "        buttonEl.style.display =\n",
              "          google.colab.kernel.accessAllowed ? 'block' : 'none';\n",
              "\n",
              "        async function convertToInteractive(key) {\n",
              "          const element = document.querySelector('#df-d10215e9-8708-421c-ba75-6cfe4e49796f');\n",
              "          const dataTable =\n",
              "            await google.colab.kernel.invokeFunction('convertToInteractive',\n",
              "                                                     [key], {});\n",
              "          if (!dataTable) return;\n",
              "\n",
              "          const docLinkHtml = 'Like what you see? Visit the ' +\n",
              "            '<a target=\"_blank\" href=https://colab.research.google.com/notebooks/data_table.ipynb>data table notebook</a>'\n",
              "            + ' to learn more about interactive tables.';\n",
              "          element.innerHTML = '';\n",
              "          dataTable['output_type'] = 'display_data';\n",
              "          await google.colab.output.renderOutput(dataTable, element);\n",
              "          const docLink = document.createElement('div');\n",
              "          docLink.innerHTML = docLinkHtml;\n",
              "          element.appendChild(docLink);\n",
              "        }\n",
              "      </script>\n",
              "    </div>\n",
              "  </div>\n",
              "  "
            ]
          },
          "metadata": {},
          "execution_count": 2
        }
      ]
    },
    {
      "cell_type": "markdown",
      "source": [
        "### Correlation between features and outputs\n",
        "We wanted to observe how certain features of the ENB dataset affect the final results. Using corr() we are able to determine which features seem to have a stronger correlation."
      ],
      "metadata": {
        "id": "sgyt1imdOCe-"
      }
    },
    {
      "cell_type": "code",
      "source": [
        "enb.corr()['Heating Load']"
      ],
      "metadata": {
        "colab": {
          "base_uri": "https://localhost:8080/"
        },
        "id": "aoP0hxLVisU4",
        "outputId": "2db995b4-1c8d-4c36-c9bb-621b27908f80"
      },
      "execution_count": null,
      "outputs": [
        {
          "output_type": "execute_result",
          "data": {
            "text/plain": [
              "Relative Compactness         0.622272\n",
              "Surface Area                -0.658120\n",
              "Wall Area                    0.455671\n",
              "Roof Area                   -0.861828\n",
              "Overall Height               0.889430\n",
              "Orientation                 -0.002587\n",
              "Glazing Area                 0.269842\n",
              "Glazing Area Distribution    0.087368\n",
              "Heating Load                 1.000000\n",
              "Cooling Load                 0.975862\n",
              "Name: Heating Load, dtype: float64"
            ]
          },
          "metadata": {},
          "execution_count": 3
        }
      ]
    },
    {
      "cell_type": "code",
      "source": [
        "enb.corr()['Cooling Load']"
      ],
      "metadata": {
        "colab": {
          "base_uri": "https://localhost:8080/"
        },
        "id": "zjdLFbWziwbC",
        "outputId": "256660a3-4c6b-4024-bd2b-594edff3b8b7"
      },
      "execution_count": null,
      "outputs": [
        {
          "output_type": "execute_result",
          "data": {
            "text/plain": [
              "Relative Compactness         0.634339\n",
              "Surface Area                -0.672999\n",
              "Wall Area                    0.427117\n",
              "Roof Area                   -0.862547\n",
              "Overall Height               0.895785\n",
              "Orientation                  0.014290\n",
              "Glazing Area                 0.207505\n",
              "Glazing Area Distribution    0.050525\n",
              "Heating Load                 0.975862\n",
              "Cooling Load                 1.000000\n",
              "Name: Cooling Load, dtype: float64"
            ]
          },
          "metadata": {},
          "execution_count": 4
        }
      ]
    },
    {
      "cell_type": "markdown",
      "source": [
        "### We then decided to drop the attributes with a correlation between -0.5 and 0.5. In order to remove irrelevant data from the dataset."
      ],
      "metadata": {
        "id": "f-VZBzCSO81D"
      }
    },
    {
      "cell_type": "code",
      "source": [
        "# Statistically Significant features\n",
        "features = ['Relative Compactness',\n",
        "            'Surface Area',\n",
        "            'Roof Area',\n",
        "            'Overall Height']\n",
        "\n",
        "targets = ['Heating Load',\n",
        "           'Cooling Load']\n",
        "\n"
      ],
      "metadata": {
        "id": "oe_e8teIi3DD"
      },
      "execution_count": null,
      "outputs": []
    },
    {
      "cell_type": "markdown",
      "source": [
        "## 1.3 Analyze Data\n",
        "### 1.3.1 What are the distributions of the positive vs. negative classes?"
      ],
      "metadata": {
        "id": "-AR45FUiYAh8"
      }
    },
    {
      "cell_type": "code",
      "source": [
        "# mean, median, and std\n",
        "def basicStat(df_features):\n",
        "  series_dict = {\n",
        "    \"Mean\" : df_features.astype(int).mean(),\n",
        "    \"Median\" : df_features.astype(int).median(),\n",
        "    \"Std\" : df_features.astype(int).std(),\n",
        "  }\n",
        "\n",
        "  res = pd.concat(series_dict, axis=1)\n",
        "  return pd.DataFrame(res)\n",
        "  \n",
        "enbStat = enb\n",
        "display(basicStat(enbStat)[-2:])"
      ],
      "metadata": {
        "colab": {
          "base_uri": "https://localhost:8080/",
          "height": 111
        },
        "id": "MOS6GFFkCSFC",
        "outputId": "9e363340-cc4e-4ead-b167-04af8a8c574b"
      },
      "execution_count": null,
      "outputs": [
        {
          "output_type": "display_data",
          "data": {
            "text/plain": [
              "                   Mean  Median        Std\n",
              "Heating Load  21.828125    18.5  10.071149\n",
              "Cooling Load  24.091146    22.0   9.514390"
            ],
            "text/html": [
              "\n",
              "  <div id=\"df-ea2446b9-9878-4928-b5bf-cdd5a3749f70\">\n",
              "    <div class=\"colab-df-container\">\n",
              "      <div>\n",
              "<style scoped>\n",
              "    .dataframe tbody tr th:only-of-type {\n",
              "        vertical-align: middle;\n",
              "    }\n",
              "\n",
              "    .dataframe tbody tr th {\n",
              "        vertical-align: top;\n",
              "    }\n",
              "\n",
              "    .dataframe thead th {\n",
              "        text-align: right;\n",
              "    }\n",
              "</style>\n",
              "<table border=\"1\" class=\"dataframe\">\n",
              "  <thead>\n",
              "    <tr style=\"text-align: right;\">\n",
              "      <th></th>\n",
              "      <th>Mean</th>\n",
              "      <th>Median</th>\n",
              "      <th>Std</th>\n",
              "    </tr>\n",
              "  </thead>\n",
              "  <tbody>\n",
              "    <tr>\n",
              "      <th>Heating Load</th>\n",
              "      <td>21.828125</td>\n",
              "      <td>18.5</td>\n",
              "      <td>10.071149</td>\n",
              "    </tr>\n",
              "    <tr>\n",
              "      <th>Cooling Load</th>\n",
              "      <td>24.091146</td>\n",
              "      <td>22.0</td>\n",
              "      <td>9.514390</td>\n",
              "    </tr>\n",
              "  </tbody>\n",
              "</table>\n",
              "</div>\n",
              "      <button class=\"colab-df-convert\" onclick=\"convertToInteractive('df-ea2446b9-9878-4928-b5bf-cdd5a3749f70')\"\n",
              "              title=\"Convert this dataframe to an interactive table.\"\n",
              "              style=\"display:none;\">\n",
              "        \n",
              "  <svg xmlns=\"http://www.w3.org/2000/svg\" height=\"24px\"viewBox=\"0 0 24 24\"\n",
              "       width=\"24px\">\n",
              "    <path d=\"M0 0h24v24H0V0z\" fill=\"none\"/>\n",
              "    <path d=\"M18.56 5.44l.94 2.06.94-2.06 2.06-.94-2.06-.94-.94-2.06-.94 2.06-2.06.94zm-11 1L8.5 8.5l.94-2.06 2.06-.94-2.06-.94L8.5 2.5l-.94 2.06-2.06.94zm10 10l.94 2.06.94-2.06 2.06-.94-2.06-.94-.94-2.06-.94 2.06-2.06.94z\"/><path d=\"M17.41 7.96l-1.37-1.37c-.4-.4-.92-.59-1.43-.59-.52 0-1.04.2-1.43.59L10.3 9.45l-7.72 7.72c-.78.78-.78 2.05 0 2.83L4 21.41c.39.39.9.59 1.41.59.51 0 1.02-.2 1.41-.59l7.78-7.78 2.81-2.81c.8-.78.8-2.07 0-2.86zM5.41 20L4 18.59l7.72-7.72 1.47 1.35L5.41 20z\"/>\n",
              "  </svg>\n",
              "      </button>\n",
              "      \n",
              "  <style>\n",
              "    .colab-df-container {\n",
              "      display:flex;\n",
              "      flex-wrap:wrap;\n",
              "      gap: 12px;\n",
              "    }\n",
              "\n",
              "    .colab-df-convert {\n",
              "      background-color: #E8F0FE;\n",
              "      border: none;\n",
              "      border-radius: 50%;\n",
              "      cursor: pointer;\n",
              "      display: none;\n",
              "      fill: #1967D2;\n",
              "      height: 32px;\n",
              "      padding: 0 0 0 0;\n",
              "      width: 32px;\n",
              "    }\n",
              "\n",
              "    .colab-df-convert:hover {\n",
              "      background-color: #E2EBFA;\n",
              "      box-shadow: 0px 1px 2px rgba(60, 64, 67, 0.3), 0px 1px 3px 1px rgba(60, 64, 67, 0.15);\n",
              "      fill: #174EA6;\n",
              "    }\n",
              "\n",
              "    [theme=dark] .colab-df-convert {\n",
              "      background-color: #3B4455;\n",
              "      fill: #D2E3FC;\n",
              "    }\n",
              "\n",
              "    [theme=dark] .colab-df-convert:hover {\n",
              "      background-color: #434B5C;\n",
              "      box-shadow: 0px 1px 3px 1px rgba(0, 0, 0, 0.15);\n",
              "      filter: drop-shadow(0px 1px 2px rgba(0, 0, 0, 0.3));\n",
              "      fill: #FFFFFF;\n",
              "    }\n",
              "  </style>\n",
              "\n",
              "      <script>\n",
              "        const buttonEl =\n",
              "          document.querySelector('#df-ea2446b9-9878-4928-b5bf-cdd5a3749f70 button.colab-df-convert');\n",
              "        buttonEl.style.display =\n",
              "          google.colab.kernel.accessAllowed ? 'block' : 'none';\n",
              "\n",
              "        async function convertToInteractive(key) {\n",
              "          const element = document.querySelector('#df-ea2446b9-9878-4928-b5bf-cdd5a3749f70');\n",
              "          const dataTable =\n",
              "            await google.colab.kernel.invokeFunction('convertToInteractive',\n",
              "                                                     [key], {});\n",
              "          if (!dataTable) return;\n",
              "\n",
              "          const docLinkHtml = 'Like what you see? Visit the ' +\n",
              "            '<a target=\"_blank\" href=https://colab.research.google.com/notebooks/data_table.ipynb>data table notebook</a>'\n",
              "            + ' to learn more about interactive tables.';\n",
              "          element.innerHTML = '';\n",
              "          dataTable['output_type'] = 'display_data';\n",
              "          await google.colab.output.renderOutput(dataTable, element);\n",
              "          const docLink = document.createElement('div');\n",
              "          docLink.innerHTML = docLinkHtml;\n",
              "          element.appendChild(docLink);\n",
              "        }\n",
              "      </script>\n",
              "    </div>\n",
              "  </div>\n",
              "  "
            ]
          },
          "metadata": {}
        }
      ]
    },
    {
      "cell_type": "markdown",
      "source": [
        "In this dataset, we observed the above values for the Heating and Cooling Load classes."
      ],
      "metadata": {
        "id": "miMxKTKHylvK"
      }
    },
    {
      "cell_type": "markdown",
      "source": [
        "### 1.3.2 What are the distributions of some of the numerical features?\n"
      ],
      "metadata": {
        "id": "U3RSZFTeJsMI"
      }
    },
    {
      "cell_type": "code",
      "source": [
        "enbMatrix = enb.corr()\n",
        "\n",
        "c = enbMatrix.abs()\n",
        "s = c.unstack()\n",
        "so = s.sort_values(kind=\"quicksort\")\n",
        "print(so[::-1].head(20))\n",
        "\n",
        "sb.heatmap(enbMatrix)"
      ],
      "metadata": {
        "colab": {
          "base_uri": "https://localhost:8080/",
          "height": 759
        },
        "id": "s7M-yQLoAvl-",
        "outputId": "a59c0293-87f2-4f21-c9d6-03b7b3bff408"
      },
      "execution_count": null,
      "outputs": [
        {
          "output_type": "stream",
          "name": "stdout",
          "text": [
            "Cooling Load               Cooling Load                 1.000000\n",
            "Heating Load               Heating Load                 1.000000\n",
            "Surface Area               Surface Area                 1.000000\n",
            "Wall Area                  Wall Area                    1.000000\n",
            "Roof Area                  Roof Area                    1.000000\n",
            "Overall Height             Overall Height               1.000000\n",
            "Orientation                Orientation                  1.000000\n",
            "Glazing Area               Glazing Area                 1.000000\n",
            "Glazing Area Distribution  Glazing Area Distribution    1.000000\n",
            "Relative Compactness       Relative Compactness         1.000000\n",
            "                           Surface Area                 0.991901\n",
            "Surface Area               Relative Compactness         0.991901\n",
            "Heating Load               Cooling Load                 0.975862\n",
            "Cooling Load               Heating Load                 0.975862\n",
            "Roof Area                  Overall Height               0.972512\n",
            "Overall Height             Roof Area                    0.972512\n",
            "Cooling Load               Overall Height               0.895785\n",
            "Overall Height             Cooling Load                 0.895785\n",
            "Heating Load               Overall Height               0.889430\n",
            "Overall Height             Heating Load                 0.889430\n",
            "dtype: float64\n"
          ]
        },
        {
          "output_type": "execute_result",
          "data": {
            "text/plain": [
              "<matplotlib.axes._subplots.AxesSubplot at 0x7f6192d8f8e0>"
            ]
          },
          "metadata": {},
          "execution_count": 7
        },
        {
          "output_type": "display_data",
          "data": {
            "text/plain": [
              "<Figure size 432x288 with 2 Axes>"
            ],
            "image/png": "[encoded data removed]"
          },
          "metadata": {
            "needs_background": "light"
          }
        }
      ]
    },
    {
      "cell_type": "code",
      "source": [
        "enbStat = enb\n",
        "display(basicStat(enbStat)[:-2])"
      ],
      "metadata": {
        "colab": {
          "base_uri": "https://localhost:8080/",
          "height": 297
        },
        "id": "Jnn6CJr15xIB",
        "outputId": "c292050a-0f0f-4a07-f570-35b1317d2e6a"
      },
      "execution_count": null,
      "outputs": [
        {
          "output_type": "display_data",
          "data": {
            "text/plain": [
              "                                 Mean  Median        Std\n",
              "Relative Compactness         0.000000     0.0   0.000000\n",
              "Surface Area               671.416667   673.5  88.120300\n",
              "Wall Area                  318.250000   318.0  43.533380\n",
              "Roof Area                  176.250000   183.5  45.053640\n",
              "Overall Height               5.000000     5.0   2.001303\n",
              "Orientation                  3.500000     3.5   1.118763\n",
              "Glazing Area                 0.000000     0.0   0.000000\n",
              "Glazing Area Distribution    2.812500     3.0   1.550960"
            ],
            "text/html": [
              "\n",
              "  <div id=\"df-664eb0be-fe83-49af-bd50-f40aa6046644\">\n",
              "    <div class=\"colab-df-container\">\n",
              "      <div>\n",
              "<style scoped>\n",
              "    .dataframe tbody tr th:only-of-type {\n",
              "        vertical-align: middle;\n",
              "    }\n",
              "\n",
              "    .dataframe tbody tr th {\n",
              "        vertical-align: top;\n",
              "    }\n",
              "\n",
              "    .dataframe thead th {\n",
              "        text-align: right;\n",
              "    }\n",
              "</style>\n",
              "<table border=\"1\" class=\"dataframe\">\n",
              "  <thead>\n",
              "    <tr style=\"text-align: right;\">\n",
              "      <th></th>\n",
              "      <th>Mean</th>\n",
              "      <th>Median</th>\n",
              "      <th>Std</th>\n",
              "    </tr>\n",
              "  </thead>\n",
              "  <tbody>\n",
              "    <tr>\n",
              "      <th>Relative Compactness</th>\n",
              "      <td>0.000000</td>\n",
              "      <td>0.0</td>\n",
              "      <td>0.000000</td>\n",
              "    </tr>\n",
              "    <tr>\n",
              "      <th>Surface Area</th>\n",
              "      <td>671.416667</td>\n",
              "      <td>673.5</td>\n",
              "      <td>88.120300</td>\n",
              "    </tr>\n",
              "    <tr>\n",
              "      <th>Wall Area</th>\n",
              "      <td>318.250000</td>\n",
              "      <td>318.0</td>\n",
              "      <td>43.533380</td>\n",
              "    </tr>\n",
              "    <tr>\n",
              "      <th>Roof Area</th>\n",
              "      <td>176.250000</td>\n",
              "      <td>183.5</td>\n",
              "      <td>45.053640</td>\n",
              "    </tr>\n",
              "    <tr>\n",
              "      <th>Overall Height</th>\n",
              "      <td>5.000000</td>\n",
              "      <td>5.0</td>\n",
              "      <td>2.001303</td>\n",
              "    </tr>\n",
              "    <tr>\n",
              "      <th>Orientation</th>\n",
              "      <td>3.500000</td>\n",
              "      <td>3.5</td>\n",
              "      <td>1.118763</td>\n",
              "    </tr>\n",
              "    <tr>\n",
              "      <th>Glazing Area</th>\n",
              "      <td>0.000000</td>\n",
              "      <td>0.0</td>\n",
              "      <td>0.000000</td>\n",
              "    </tr>\n",
              "    <tr>\n",
              "      <th>Glazing Area Distribution</th>\n",
              "      <td>2.812500</td>\n",
              "      <td>3.0</td>\n",
              "      <td>1.550960</td>\n",
              "    </tr>\n",
              "  </tbody>\n",
              "</table>\n",
              "</div>\n",
              "      <button class=\"colab-df-convert\" onclick=\"convertToInteractive('df-664eb0be-fe83-49af-bd50-f40aa6046644')\"\n",
              "              title=\"Convert this dataframe to an interactive table.\"\n",
              "              style=\"display:none;\">\n",
              "        \n",
              "  <svg xmlns=\"http://www.w3.org/2000/svg\" height=\"24px\"viewBox=\"0 0 24 24\"\n",
              "       width=\"24px\">\n",
              "    <path d=\"M0 0h24v24H0V0z\" fill=\"none\"/>\n",
              "    <path d=\"M18.56 5.44l.94 2.06.94-2.06 2.06-.94-2.06-.94-.94-2.06-.94 2.06-2.06.94zm-11 1L8.5 8.5l.94-2.06 2.06-.94-2.06-.94L8.5 2.5l-.94 2.06-2.06.94zm10 10l.94 2.06.94-2.06 2.06-.94-2.06-.94-.94-2.06-.94 2.06-2.06.94z\"/><path d=\"M17.41 7.96l-1.37-1.37c-.4-.4-.92-.59-1.43-.59-.52 0-1.04.2-1.43.59L10.3 9.45l-7.72 7.72c-.78.78-.78 2.05 0 2.83L4 21.41c.39.39.9.59 1.41.59.51 0 1.02-.2 1.41-.59l7.78-7.78 2.81-2.81c.8-.78.8-2.07 0-2.86zM5.41 20L4 18.59l7.72-7.72 1.47 1.35L5.41 20z\"/>\n",
              "  </svg>\n",
              "      </button>\n",
              "      \n",
              "  <style>\n",
              "    .colab-df-container {\n",
              "      display:flex;\n",
              "      flex-wrap:wrap;\n",
              "      gap: 12px;\n",
              "    }\n",
              "\n",
              "    .colab-df-convert {\n",
              "      background-color: #E8F0FE;\n",
              "      border: none;\n",
              "      border-radius: 50%;\n",
              "      cursor: pointer;\n",
              "      display: none;\n",
              "      fill: #1967D2;\n",
              "      height: 32px;\n",
              "      padding: 0 0 0 0;\n",
              "      width: 32px;\n",
              "    }\n",
              "\n",
              "    .colab-df-convert:hover {\n",
              "      background-color: #E2EBFA;\n",
              "      box-shadow: 0px 1px 2px rgba(60, 64, 67, 0.3), 0px 1px 3px 1px rgba(60, 64, 67, 0.15);\n",
              "      fill: #174EA6;\n",
              "    }\n",
              "\n",
              "    [theme=dark] .colab-df-convert {\n",
              "      background-color: #3B4455;\n",
              "      fill: #D2E3FC;\n",
              "    }\n",
              "\n",
              "    [theme=dark] .colab-df-convert:hover {\n",
              "      background-color: #434B5C;\n",
              "      box-shadow: 0px 1px 3px 1px rgba(0, 0, 0, 0.15);\n",
              "      filter: drop-shadow(0px 1px 2px rgba(0, 0, 0, 0.3));\n",
              "      fill: #FFFFFF;\n",
              "    }\n",
              "  </style>\n",
              "\n",
              "      <script>\n",
              "        const buttonEl =\n",
              "          document.querySelector('#df-664eb0be-fe83-49af-bd50-f40aa6046644 button.colab-df-convert');\n",
              "        buttonEl.style.display =\n",
              "          google.colab.kernel.accessAllowed ? 'block' : 'none';\n",
              "\n",
              "        async function convertToInteractive(key) {\n",
              "          const element = document.querySelector('#df-664eb0be-fe83-49af-bd50-f40aa6046644');\n",
              "          const dataTable =\n",
              "            await google.colab.kernel.invokeFunction('convertToInteractive',\n",
              "                                                     [key], {});\n",
              "          if (!dataTable) return;\n",
              "\n",
              "          const docLinkHtml = 'Like what you see? Visit the ' +\n",
              "            '<a target=\"_blank\" href=https://colab.research.google.com/notebooks/data_table.ipynb>data table notebook</a>'\n",
              "            + ' to learn more about interactive tables.';\n",
              "          element.innerHTML = '';\n",
              "          dataTable['output_type'] = 'display_data';\n",
              "          await google.colab.output.renderOutput(dataTable, element);\n",
              "          const docLink = document.createElement('div');\n",
              "          docLink.innerHTML = docLinkHtml;\n",
              "          element.appendChild(docLink);\n",
              "        }\n",
              "      </script>\n",
              "    </div>\n",
              "  </div>\n",
              "  "
            ]
          },
          "metadata": {}
        }
      ]
    },
    {
      "cell_type": "code",
      "source": [
        "# normalize both datasets\n",
        "\n",
        "def normalize(x):\n",
        "  normalized = (x-min(x))/(max(x)-min(x))\n",
        "  return normalized\n",
        "\n",
        "enb = enb.apply(normalize)\n",
        "\n",
        "display(enb.head())"
      ],
      "metadata": {
        "colab": {
          "base_uri": "https://localhost:8080/",
          "height": 265
        },
        "id": "l9Xcv9fRDIHO",
        "outputId": "f0e847a0-f68e-4590-980b-5f6052b80cfc"
      },
      "execution_count": null,
      "outputs": [
        {
          "output_type": "display_data",
          "data": {
            "text/plain": [
              "   Relative Compactness  Surface Area  Wall Area  Roof Area  Overall Height  \\\n",
              "0              1.000000      0.000000   0.285714   0.000000             1.0   \n",
              "1              1.000000      0.000000   0.285714   0.000000             1.0   \n",
              "2              1.000000      0.000000   0.285714   0.000000             1.0   \n",
              "3              1.000000      0.000000   0.285714   0.000000             1.0   \n",
              "4              0.777778      0.166667   0.428571   0.111111             1.0   \n",
              "\n",
              "   Orientation  Glazing Area  Glazing Area Distribution  Heating Load  \\\n",
              "0     0.000000           0.0                        0.0      0.257212   \n",
              "1     0.333333           0.0                        0.0      0.257212   \n",
              "2     0.666667           0.0                        0.0      0.257212   \n",
              "3     1.000000           0.0                        0.0      0.257212   \n",
              "4     0.000000           0.0                        0.0      0.399838   \n",
              "\n",
              "   Cooling Load  \n",
              "0      0.280905  \n",
              "1      0.280905  \n",
              "2      0.280905  \n",
              "3      0.280905  \n",
              "4      0.468085  "
            ],
            "text/html": [
              "\n",
              "  <div id=\"df-00e19dc9-605d-4eb7-ae22-18e5cbc0122c\">\n",
              "    <div class=\"colab-df-container\">\n",
              "      <div>\n",
              "<style scoped>\n",
              "    .dataframe tbody tr th:only-of-type {\n",
              "        vertical-align: middle;\n",
              "    }\n",
              "\n",
              "    .dataframe tbody tr th {\n",
              "        vertical-align: top;\n",
              "    }\n",
              "\n",
              "    .dataframe thead th {\n",
              "        text-align: right;\n",
              "    }\n",
              "</style>\n",
              "<table border=\"1\" class=\"dataframe\">\n",
              "  <thead>\n",
              "    <tr style=\"text-align: right;\">\n",
              "      <th></th>\n",
              "      <th>Relative Compactness</th>\n",
              "      <th>Surface Area</th>\n",
              "      <th>Wall Area</th>\n",
              "      <th>Roof Area</th>\n",
              "      <th>Overall Height</th>\n",
              "      <th>Orientation</th>\n",
              "      <th>Glazing Area</th>\n",
              "      <th>Glazing Area Distribution</th>\n",
              "      <th>Heating Load</th>\n",
              "      <th>Cooling Load</th>\n",
              "    </tr>\n",
              "  </thead>\n",
              "  <tbody>\n",
              "    <tr>\n",
              "      <th>0</th>\n",
              "      <td>1.000000</td>\n",
              "      <td>0.000000</td>\n",
              "      <td>0.285714</td>\n",
              "      <td>0.000000</td>\n",
              "      <td>1.0</td>\n",
              "      <td>0.000000</td>\n",
              "      <td>0.0</td>\n",
              "      <td>0.0</td>\n",
              "      <td>0.257212</td>\n",
              "      <td>0.280905</td>\n",
              "    </tr>\n",
              "    <tr>\n",
              "      <th>1</th>\n",
              "      <td>1.000000</td>\n",
              "      <td>0.000000</td>\n",
              "      <td>0.285714</td>\n",
              "      <td>0.000000</td>\n",
              "      <td>1.0</td>\n",
              "      <td>0.333333</td>\n",
              "      <td>0.0</td>\n",
              "      <td>0.0</td>\n",
              "      <td>0.257212</td>\n",
              "      <td>0.280905</td>\n",
              "    </tr>\n",
              "    <tr>\n",
              "      <th>2</th>\n",
              "      <td>1.000000</td>\n",
              "      <td>0.000000</td>\n",
              "      <td>0.285714</td>\n",
              "      <td>0.000000</td>\n",
              "      <td>1.0</td>\n",
              "      <td>0.666667</td>\n",
              "      <td>0.0</td>\n",
              "      <td>0.0</td>\n",
              "      <td>0.257212</td>\n",
              "      <td>0.280905</td>\n",
              "    </tr>\n",
              "    <tr>\n",
              "      <th>3</th>\n",
              "      <td>1.000000</td>\n",
              "      <td>0.000000</td>\n",
              "      <td>0.285714</td>\n",
              "      <td>0.000000</td>\n",
              "      <td>1.0</td>\n",
              "      <td>1.000000</td>\n",
              "      <td>0.0</td>\n",
              "      <td>0.0</td>\n",
              "      <td>0.257212</td>\n",
              "      <td>0.280905</td>\n",
              "    </tr>\n",
              "    <tr>\n",
              "      <th>4</th>\n",
              "      <td>0.777778</td>\n",
              "      <td>0.166667</td>\n",
              "      <td>0.428571</td>\n",
              "      <td>0.111111</td>\n",
              "      <td>1.0</td>\n",
              "      <td>0.000000</td>\n",
              "      <td>0.0</td>\n",
              "      <td>0.0</td>\n",
              "      <td>0.399838</td>\n",
              "      <td>0.468085</td>\n",
              "    </tr>\n",
              "  </tbody>\n",
              "</table>\n",
              "</div>\n",
              "      <button class=\"colab-df-convert\" onclick=\"convertToInteractive('df-00e19dc9-605d-4eb7-ae22-18e5cbc0122c')\"\n",
              "              title=\"Convert this dataframe to an interactive table.\"\n",
              "              style=\"display:none;\">\n",
              "        \n",
              "  <svg xmlns=\"http://www.w3.org/2000/svg\" height=\"24px\"viewBox=\"0 0 24 24\"\n",
              "       width=\"24px\">\n",
              "    <path d=\"M0 0h24v24H0V0z\" fill=\"none\"/>\n",
              "    <path d=\"M18.56 5.44l.94 2.06.94-2.06 2.06-.94-2.06-.94-.94-2.06-.94 2.06-2.06.94zm-11 1L8.5 8.5l.94-2.06 2.06-.94-2.06-.94L8.5 2.5l-.94 2.06-2.06.94zm10 10l.94 2.06.94-2.06 2.06-.94-2.06-.94-.94-2.06-.94 2.06-2.06.94z\"/><path d=\"M17.41 7.96l-1.37-1.37c-.4-.4-.92-.59-1.43-.59-.52 0-1.04.2-1.43.59L10.3 9.45l-7.72 7.72c-.78.78-.78 2.05 0 2.83L4 21.41c.39.39.9.59 1.41.59.51 0 1.02-.2 1.41-.59l7.78-7.78 2.81-2.81c.8-.78.8-2.07 0-2.86zM5.41 20L4 18.59l7.72-7.72 1.47 1.35L5.41 20z\"/>\n",
              "  </svg>\n",
              "      </button>\n",
              "      \n",
              "  <style>\n",
              "    .colab-df-container {\n",
              "      display:flex;\n",
              "      flex-wrap:wrap;\n",
              "      gap: 12px;\n",
              "    }\n",
              "\n",
              "    .colab-df-convert {\n",
              "      background-color: #E8F0FE;\n",
              "      border: none;\n",
              "      border-radius: 50%;\n",
              "      cursor: pointer;\n",
              "      display: none;\n",
              "      fill: #1967D2;\n",
              "      height: 32px;\n",
              "      padding: 0 0 0 0;\n",
              "      width: 32px;\n",
              "    }\n",
              "\n",
              "    .colab-df-convert:hover {\n",
              "      background-color: #E2EBFA;\n",
              "      box-shadow: 0px 1px 2px rgba(60, 64, 67, 0.3), 0px 1px 3px 1px rgba(60, 64, 67, 0.15);\n",
              "      fill: #174EA6;\n",
              "    }\n",
              "\n",
              "    [theme=dark] .colab-df-convert {\n",
              "      background-color: #3B4455;\n",
              "      fill: #D2E3FC;\n",
              "    }\n",
              "\n",
              "    [theme=dark] .colab-df-convert:hover {\n",
              "      background-color: #434B5C;\n",
              "      box-shadow: 0px 1px 3px 1px rgba(0, 0, 0, 0.15);\n",
              "      filter: drop-shadow(0px 1px 2px rgba(0, 0, 0, 0.3));\n",
              "      fill: #FFFFFF;\n",
              "    }\n",
              "  </style>\n",
              "\n",
              "      <script>\n",
              "        const buttonEl =\n",
              "          document.querySelector('#df-00e19dc9-605d-4eb7-ae22-18e5cbc0122c button.colab-df-convert');\n",
              "        buttonEl.style.display =\n",
              "          google.colab.kernel.accessAllowed ? 'block' : 'none';\n",
              "\n",
              "        async function convertToInteractive(key) {\n",
              "          const element = document.querySelector('#df-00e19dc9-605d-4eb7-ae22-18e5cbc0122c');\n",
              "          const dataTable =\n",
              "            await google.colab.kernel.invokeFunction('convertToInteractive',\n",
              "                                                     [key], {});\n",
              "          if (!dataTable) return;\n",
              "\n",
              "          const docLinkHtml = 'Like what you see? Visit the ' +\n",
              "            '<a target=\"_blank\" href=https://colab.research.google.com/notebooks/data_table.ipynb>data table notebook</a>'\n",
              "            + ' to learn more about interactive tables.';\n",
              "          element.innerHTML = '';\n",
              "          dataTable['output_type'] = 'display_data';\n",
              "          await google.colab.output.renderOutput(dataTable, element);\n",
              "          const docLink = document.createElement('div');\n",
              "          docLink.innerHTML = docLinkHtml;\n",
              "          element.appendChild(docLink);\n",
              "        }\n",
              "      </script>\n",
              "    </div>\n",
              "  </div>\n",
              "  "
            ]
          },
          "metadata": {}
        }
      ]
    },
    {
      "cell_type": "markdown",
      "source": [
        "# 2. Implement the Models"
      ],
      "metadata": {
        "id": "NMib_zv7J2d-"
      }
    },
    {
      "cell_type": "markdown",
      "source": [
        "## 2.1 Implement analytical linear regression solution for Dataset 1"
      ],
      "metadata": {
        "id": "bGNCzp8wKAIx"
      }
    },
    {
      "cell_type": "code",
      "source": [
        "\n",
        "class LinearRegressionAnalytical:\n",
        "    def __init__(self, add_bias=True):  # bias -> y = mx + b where b is the bias\n",
        "        self.add_bias = add_bias\n",
        "        pass\n",
        "\n",
        "    def fit(self, x, y):\n",
        "        if x.ndim == 1:\n",
        "            x = x[:, None]  # add a dimension for the features\n",
        "        N = x.shape[0]\n",
        "        if self.add_bias:\n",
        "            x = np.column_stack([x, np.ones(N)])  # add bias by adding a constant feature of value 1\n",
        "\n",
        "        self.w = np.linalg.inv(x.T @ x) @ x.T @ y  # analytical formulation\n",
        "        return self\n",
        "\n",
        "    def predict(self, x):\n",
        "        if self.add_bias:\n",
        "            x = np.column_stack([x, np.ones(x.shape[0])])\n",
        "        yh = x @ self.w  # predict the y values,\n",
        "        return yh\n"
      ],
      "metadata": {
        "id": "Ims3qR1ho8vk"
      },
      "execution_count": null,
      "outputs": []
    },
    {
      "cell_type": "markdown",
      "source": [
        "## 2.2 Implement mini-batch stochastic gradient descent for linear regression"
      ],
      "metadata": {
        "id": "DglYkq11KRzH"
      }
    },
    {
      "cell_type": "code",
      "source": [
        "\n",
        "\n",
        "class LinearRegressionOptimized:\n",
        "    def __init__(self, add_bias=True):\n",
        "        self.add_bias = add_bias\n",
        "        pass\n",
        "\n",
        "    def fit(self, x, y, optimizer):\n",
        "        if x.ndim == 1:\n",
        "            x = x[:, None]\n",
        "        if self.add_bias:\n",
        "            N = x.shape[0]\n",
        "            x = np.column_stack([x, np.ones(N)])\n",
        "        N, D = x.shape\n",
        "\n",
        "        def gradient(x, y, w):  # define the gradient function\n",
        "            yh = x @ w\n",
        "            N, D = x.shape\n",
        "            grad = np.dot(yh - y, x) / N\n",
        "            return grad\n",
        "\n",
        "        w0 = np.zeros(D)  # initialize the weights to 0\n",
        "        self.w = optimizer.run(gradient, x, y, w0)  # run the optimizer to get the optimal weights\n",
        "        return self\n",
        "\n",
        "    def predict(self, x):\n",
        "        if self.add_bias:\n",
        "            x = np.column_stack([x, np.ones(x.shape[0])])\n",
        "        yh = x @ self.w\n",
        "        return yh\n",
        "\n",
        "\n",
        "class GradientDescent:\n",
        "\n",
        "    def __init__(self, learning_rate=.001, max_iters=1e4, epsilon=1e-8, record_history=False, batch_size=8):\n",
        "        self.learning_rate = learning_rate\n",
        "        self.max_iters = max_iters\n",
        "        self.record_history = record_history\n",
        "        self.epsilon = epsilon\n",
        "        self.batch_size = batch_size\n",
        "        if record_history:\n",
        "            self.w_history = []  # to store the weight history for visualization\n",
        "            self.cost_history = []  # to store the cost history for visualization\n",
        "\n",
        "    def run(self, gradient_fn, x, y, w):\n",
        "        grad = np.inf\n",
        "        t = 1\n",
        "        epoch = 0\n",
        "\n",
        "        numSamples = x.shape[0]\n",
        "\n",
        "        # Seperates indices into mini-batches\n",
        "        numBatches =  numSamples // self.batch_size if numSamples > self.batch_size else  1\n",
        "        mini_batches_indices = np.array_split(np.arange(numSamples), numBatches)\n",
        "\n",
        "        while np.linalg.norm(grad) > self.epsilon and t < self.max_iters:\n",
        "            y = np.array(y)\n",
        "\n",
        "            self.w_history.append(w)\n",
        "\n",
        "            for batch in mini_batches_indices:\n",
        "                mini_x, mini_y = (x[batch, :], y[batch])\n",
        "\n",
        "                grad = gradient_fn(mini_x, mini_y, w)  # compute the gradient with present weight\n",
        "                w = w - (self.learning_rate) * grad  # weight update step\n",
        "                t += 1\n",
        "\n",
        "            if self.record_history:\n",
        "                self.w_history.append(w)\n",
        "            epoch += 1\n",
        "        return w\n",
        "\n"
      ],
      "metadata": {
        "id": "Z6ulkK6Ti_h7"
      },
      "execution_count": null,
      "outputs": []
    },
    {
      "cell_type": "markdown",
      "source": [
        "# 3. Run Experiments\n",
        "\n",
        "### Split each dataset into training, and test sets. Use test set to estimate performance in all of the experiments after training the model with training set. Evaluate the performance using the corresponding cost function for the classification"
      ],
      "metadata": {
        "id": "uDoBRuElKbVj"
      }
    },
    {
      "cell_type": "markdown",
      "source": [
        "## 3.1 Report the performance of linear regression and fully batched logistic regression. For both datasets use a 80/20 train/test split and report the performance on both training set and test set.\n"
      ],
      "metadata": {
        "id": "BgvtruyCKiGu"
      }
    },
    {
      "cell_type": "markdown",
      "source": [
        "### 3.1.1 Train/Test Split method"
      ],
      "metadata": {
        "id": "cfUKQeZpV-Sg"
      }
    },
    {
      "cell_type": "code",
      "source": [
        "def split_data(df: DataFrame, ratio=0.8):\n",
        "    \"\"\"\n",
        "    This function is used to split the dataset into train and test sets\n",
        "    :param df: Dataframe of dataset\n",
        "    :param ratio: percent of dataset used for training\n",
        "    :returns: training and testing dataset split based on given ratio\n",
        "    \"\"\"\n",
        "    np.random.seed(2)\n",
        "    msk = np.random.rand(len(df)) < ratio\n",
        "    train = df[msk]\n",
        "    test = df[~msk]\n",
        "    return train, test\n",
        "\n",
        "def get_mean_abs_error(train, pred):\n",
        "\n",
        "  return np.mean(np.abs(train - pred))\n",
        "\n",
        "\n",
        "def mean_squared_error(y_true, y_pred):\n",
        "    \"\"\"\n",
        "    This function calculates MSE\n",
        "    :param y_true: list of real numbers, true values\n",
        "    :param y_pred: list of real numbers, predicted values\n",
        "    :returns: mean squared error\n",
        "    \"\"\"\n",
        "    return np.mean(np.abs(np.array(y_pred) - np.array(y_true)) ** 2, axis=0)\n"
      ],
      "metadata": {
        "id": "bE64Fzcvi6OX"
      },
      "execution_count": null,
      "outputs": []
    },
    {
      "cell_type": "markdown",
      "source": [
        "### 3.1.1 Performance of Energy Dataset"
      ],
      "metadata": {
        "id": "Tbina26JmTHb"
      }
    },
    {
      "cell_type": "code",
      "source": [
        "train, test = split_data(enb, 0.8)\n",
        "x = train[features]\n",
        "y = train[targets]\n",
        "testX = test[features]\n",
        "\n",
        "LR = LinearRegressionAnalytical()\n",
        "predictedTargets = LR.fit(x, y).predict(testX)\n",
        "\n",
        "predictedHeatingLoad = predictedTargets['Heating Load']\n",
        "predictedCoolingLoad = predictedTargets['Cooling Load']\n",
        "\n",
        "errorHeating = get_mean_abs_error(test['Heating Load'], predictedHeatingLoad)\n",
        "errorCooling = get_mean_abs_error(test['Cooling Load'], predictedCoolingLoad)\n",
        "\n",
        "errorHeatingSqr = mean_squared_error(test['Heating Load'], predictedHeatingLoad)\n",
        "errorCoolingSqr = mean_squared_error(test['Cooling Load'], predictedCoolingLoad)\n",
        "\n",
        "plt.scatter(test['Surface Area'], test['Heating Load'], label=\"Heating Load Training Data\")\n",
        "plt.scatter(test['Surface Area'], predictedHeatingLoad, label=\"Heating Load Predictions\")\n",
        "plt.xlabel('Surface Area')\n",
        "plt.ylabel('Heating Load')\n",
        "plt.legend()\n",
        "plt.show()\n",
        "\n",
        "plt.scatter(test['Surface Area'], test['Cooling Load'], label=\"Cooling Load Training Data\")\n",
        "plt.scatter(test['Surface Area'], predictedCoolingLoad, label=\"Cooling Load Predictions\")\n",
        "plt.xlabel('Surface Area')\n",
        "plt.ylabel('Cooling Load')\n",
        "plt.legend()\n",
        "plt.show()\n",
        "\n",
        "print(\"Mean Absolute Error of Heating Load \" + str(errorHeating))\n",
        "print(\"Mean Absolute Error of Cooling Load \" + str(errorCooling))\n",
        "print(\"Mean Squarred Error of Heating Load \" + str(errorHeatingSqr))\n",
        "print(\"Mean Squarred Error of Cooling Load \" + str(errorCoolingSqr))"
      ],
      "metadata": {
        "colab": {
          "base_uri": "https://localhost:8080/",
          "height": 609
        },
        "id": "IF3RteCOyA3t",
        "outputId": "689442c0-f378-4a13-9269-5011362e5895"
      },
      "execution_count": null,
      "outputs": [
        {
          "output_type": "display_data",
          "data": {
            "text/plain": [
              "<Figure size 432x288 with 1 Axes>"
            ],
            "image/png": "[encoded data removed]"
          },
          "metadata": {
            "needs_background": "light"
          }
        },
        {
          "output_type": "display_data",
          "data": {
            "text/plain": [
              "<Figure size 432x288 with 1 Axes>"
            ],
            "image/png": "[encoded data removed]"
          },
          "metadata": {
            "needs_background": "light"
          }
        },
        {
          "output_type": "stream",
          "name": "stdout",
          "text": [
            "Mean Absolute Error of Heating Load 0.26870103108627763\n",
            "Mean Absolute Error of Cooling Load 0.27076763208828775\n",
            "Mean Squarred Error of Heating Load 0.009267149626655962\n",
            "Mean Squarred Error of Cooling Load 0.009958122364796552\n"
          ]
        }
      ]
    },
    {
      "cell_type": "markdown",
      "source": [
        "As observed above, we wanted to demonstrate the performance of our model by charting the testing heating and cooling loads based on the surface area, which we believed to be a useful feature in the dataset for performance measuring."
      ],
      "metadata": {
        "id": "x8IZqXXS7Nnz"
      }
    },
    {
      "cell_type": "markdown",
      "source": [
        "## 3.2 Report the weights of each of features in your trained models and discuss how each feature could affect the performance of the models.\n"
      ],
      "metadata": {
        "id": "yFrMjrKyKq3L"
      }
    },
    {
      "cell_type": "code",
      "source": [
        "print(LR.w)"
      ],
      "metadata": {
        "colab": {
          "base_uri": "https://localhost:8080/"
        },
        "id": "eFv7g9FZ0v9D",
        "outputId": "3552514f-2f53-464d-eb5a-bd5ce300526a"
      },
      "execution_count": null,
      "outputs": [
        {
          "output_type": "stream",
          "name": "stdout",
          "text": [
            "   Heating Load  Cooling Load\n",
            "0     -0.616314     -0.659813\n",
            "1     -0.196685     -0.311904\n",
            "2     -0.390544     -0.317915\n",
            "3      0.364252      0.356204\n",
            "4      0.839689      0.808179\n"
          ]
        }
      ]
    },
    {
      "cell_type": "markdown",
      "source": [
        "As mentioned above, we decided to remove the features with a correlation rate between -0.5 and 0.5. If features with low correlation to the target class are kept in a linear regression model, they can have a negative impact on the model's performance. They are unlikely to provide useful information for making accurate predictions, and can even introduce noise and confusion into our model.\n",
        "If we kept these features, the model would become more complex and harder to interpret, and this can also lead to overfitting, where the model is too closely fit to the training data and performs poorly on unseen data. \n",
        "\n",
        "The features that remained are: Relative Compactness, Surface Area, Roof Area, Overall Height. Relative Compactness is the compactness of a building's design and insulation, which can affect its energy efficiency negatively if a building is not compact enough. Surface Area and Roof Area can provide information on the total exposed surface area of a building, which can also negatively affect the target classes if too high. Overall Height can provide information on the volume of a building, if the height is too grand, then the heating would be negatively affected also.\n"
      ],
      "metadata": {
        "id": "9hgll5oFAdtY"
      }
    },
    {
      "cell_type": "markdown",
      "source": [
        "## 3.3 Sample growing subsets of the training data (20%,30%,...80%). Observe and explain how does size of training data affects the performance for both models. Plot two curves as a function of training size, one for performance in train and one for test"
      ],
      "metadata": {
        "id": "JAZyn6Y5MaoR"
      }
    },
    {
      "cell_type": "code",
      "source": [
        "\n",
        "def plotPerformance(model, trainSetRatio=[0.2, 0.3, 0.5, 0.8, 0.9], performanceTest='test'):\n",
        "    performanceHL = []\n",
        "    performanceCL = []\n",
        "    for ratio in trainSetRatio:\n",
        "        train, test = split_data(enb, ratio)\n",
        "        x = train[features]\n",
        "        y = train[targets]\n",
        "        testX = test[features]\n",
        "\n",
        "        LR = model\n",
        "\n",
        "\n",
        "        if performanceTest == 'test':\n",
        "          predictedTargets = LR.fit(x, y).predict(testX)\n",
        "\n",
        "          predictedHeatingLoad = predictedTargets['Heating Load']\n",
        "          predictedCoolingLoad = predictedTargets['Cooling Load']\n",
        "\n",
        "          meanSquareErrHL = mean_squared_error(test['Heating Load'], predictedHeatingLoad)\n",
        "          meanSquareErrCL = mean_squared_error(test['Cooling Load'], predictedCoolingLoad)\n",
        "        \n",
        "        else:\n",
        "          predictedTargets = LR.fit(x, y).predict(x)\n",
        "\n",
        "          predictedHeatingLoad = predictedTargets['Heating Load']\n",
        "          predictedCoolingLoad = predictedTargets['Cooling Load']\n",
        "\n",
        "          meanSquareErrHL = mean_squared_error(train['Heating Load'], predictedHeatingLoad)\n",
        "          meanSquareErrCL = mean_squared_error(train['Cooling Load'], predictedCoolingLoad)\n",
        "\n",
        "\n",
        "\n",
        "        performanceHL.append(meanSquareErrHL)\n",
        "        performanceCL.append(meanSquareErrCL)\n",
        "\n",
        "    plt.subplot(1, 2, 1)\n",
        "    plt.plot(np.array(trainSetRatio), np.array(performanceHL))\n",
        "\n",
        "    plt.subplot(1, 2, 2)\n",
        "    plt.plot(np.array(trainSetRatio), np.array(performanceCL), label='Analytical using ' + performanceTest + ' set')\n",
        "\n",
        "\n",
        "def plotPerformanceSGD(model, trainSetRatio=[0.2, 0.3, 0.5, 0.8, 0.9], batchSize=8, learningRate=0.1, lr=True, performanceTest='test'):\n",
        "    performanceHL = []\n",
        "    performanceCL = []\n",
        "    for ratio in trainSetRatio:\n",
        "        train, test = split_data(enb, ratio)\n",
        "        x = train[features]\n",
        "        y = train[targets]\n",
        "        testX = test[features]\n",
        "\n",
        "        optimizer = GradientDescent(learningRate, max_iters=10000, record_history=True, batch_size=batchSize)\n",
        "        LR = model\n",
        "\n",
        "        if performanceTest == 'test':\n",
        "\n",
        "          predictedHeatingLoad = LR.fit(x, y['Heating Load'], optimizer).predict(testX)\n",
        "          predictedCoolingLoad = LR.fit(x, y['Cooling Load'], optimizer).predict(testX)\n",
        "\n",
        "          meanSquareErrHL = mean_squared_error(test['Heating Load'], predictedHeatingLoad)\n",
        "          meanSquareErrCL = mean_squared_error(test['Cooling Load'], predictedCoolingLoad)\n",
        "        \n",
        "        else:\n",
        "\n",
        "          predictedHeatingLoad = LR.fit(x, y['Heating Load'], optimizer).predict(x)\n",
        "          predictedCoolingLoad = LR.fit(x, y['Cooling Load'], optimizer).predict(x)\n",
        "\n",
        "          meanSquareErrHL = mean_squared_error(train['Heating Load'], predictedHeatingLoad)\n",
        "          meanSquareErrCL = mean_squared_error(train['Cooling Load'], predictedCoolingLoad)\n",
        "\n",
        "        performanceHL.append(meanSquareErrHL)\n",
        "        performanceCL.append(meanSquareErrCL)\n",
        "\n",
        "    plt.subplot(1, 2, 1)\n",
        "\n",
        "    if lr:\n",
        "      plt.plot(np.array(trainSetRatio), np.array(performanceHL), label=('SGD learning rate ' + str(learningRate) + ' using ' + performanceTest))\n",
        "    else:\n",
        "      plt.plot(np.array(trainSetRatio), np.array(performanceHL), label=('SGD mini-batch size ' + str(batchSize)))\n",
        "    plt.xlabel('Train set ratio')\n",
        "    plt.ylabel('Mean Squared Error')\n",
        "    plt.title('Heating Load')\n",
        "\n",
        "    plt.subplot(1, 2, 2)\n",
        "    plt.xlabel('Train set ratio')\n",
        "    if lr:\n",
        "      plt.plot(np.array(trainSetRatio), np.array(performanceCL), label=('SGD with learning rate ' + str(learningRate) + '  using ' + performanceTest))\n",
        "    else:\n",
        "      plt.plot(np.array(trainSetRatio), np.array(performanceCL), label=('SGD mini-batch size ' + str(batchSize)))\n",
        "\n",
        "    plt.title('Cooling Load')\n",
        "\n",
        "\n",
        "plotPerformance(LinearRegressionAnalytical())\n",
        "plotPerformance(LinearRegressionAnalytical(), performanceTest='train')\n",
        "plotPerformanceSGD(LinearRegressionOptimized(), batchSize=64)\n",
        "plotPerformanceSGD(LinearRegressionOptimized(), batchSize=64, performanceTest='train')\n",
        "plt.legend(framealpha=0.2)\n",
        "plt.show()\n"
      ],
      "metadata": {
        "colab": {
          "base_uri": "https://localhost:8080/",
          "height": 295
        },
        "id": "c6DppmMwpOlm",
        "outputId": "a9ee0144-3141-4158-d63c-e98a9808f4d6"
      },
      "execution_count": null,
      "outputs": [
        {
          "output_type": "display_data",
          "data": {
            "text/plain": [
              "<Figure size 432x288 with 2 Axes>"
            ],
            "image/png": "[encoded data removed]"
          },
          "metadata": {
            "needs_background": "light"
          }
        }
      ]
    },
    {
      "cell_type": "markdown",
      "source": [
        "Increasing the size of a training subset will allow the model to iterated over greater data and improve the model's performance by reducing the variance in the estimates of the regression coefficients. As observed above, as the training set increases, we see a decrease in the mean squarred error of the predicted targets.\n",
        "\n",
        "More importantly, by observing SGD with learning rate 0.1 using train in the chart above, we see that using the same training data as a testing set causes a larger MSE."
      ],
      "metadata": {
        "id": "zDwYqjCx9eMR"
      }
    },
    {
      "cell_type": "markdown",
      "source": [
        "## 3.4 For both linear regression, try out growing minibatch sizes, e.g., 8, 16, 32, 64, and 128. Compare the convergence speed and final performance of different batch sizes to the fully batched baseline. Which configuration works the best among the ones you tried?"
      ],
      "metadata": {
        "id": "sUKeoGSFM--c"
      }
    },
    {
      "cell_type": "code",
      "source": [
        "batch = 4\n",
        "for i in range(4):\n",
        "  batch = batch * 2\n",
        "  plotPerformanceSGD(LinearRegressionOptimized(), batchSize=batch, lr=False)\n",
        "\n",
        "#fully batched\n",
        "plotPerformanceSGD(LinearRegressionOptimized(), batchSize=x.shape[0], lr=False)\n",
        "\n",
        "plt.legend()\n",
        "plt.show()\n"
      ],
      "metadata": {
        "colab": {
          "base_uri": "https://localhost:8080/",
          "height": 295
        },
        "id": "KgW9PJ2N3n2e",
        "outputId": "66ae7490-9f61-4eca-de42-4bdabf9abb27"
      },
      "execution_count": null,
      "outputs": [
        {
          "output_type": "display_data",
          "data": {
            "text/plain": [
              "<Figure size 432x288 with 2 Axes>"
            ],
            "image/png": "[encoded data removed]"
          },
          "metadata": {
            "needs_background": "light"
          }
        }
      ]
    },
    {
      "cell_type": "markdown",
      "source": [
        "Based on the plotted performances, we would say that a mini-batch size of 64 works the best. This is because it has a smaller mean squarred error."
      ],
      "metadata": {
        "id": "wY6qf4LXw2C7"
      }
    },
    {
      "cell_type": "markdown",
      "source": [
        "## 3.5 Present the performance of both linear regression with at least three different learning rates (your own choice)."
      ],
      "metadata": {
        "id": "BKh5apMiNEWI"
      }
    },
    {
      "cell_type": "code",
      "source": [
        "lr = [0.0002, 0.0005, 0.001, 0.1, 0.7]\n",
        "for i in range(len(lr)):\n",
        "  plotPerformanceSGD(LinearRegressionOptimized(), learningRate=lr[i], lr=True)\n",
        "\n",
        "plt.legend()\n",
        "plt.show()\n"
      ],
      "metadata": {
        "id": "Y5tB67FgNEn_",
        "colab": {
          "base_uri": "https://localhost:8080/",
          "height": 295
        },
        "outputId": "39895a5c-332e-46a0-f662-6fbac29e67b1"
      },
      "execution_count": null,
      "outputs": [
        {
          "output_type": "display_data",
          "data": {
            "text/plain": [
              "<Figure size 432x288 with 2 Axes>"
            ],
            "image/png": "[encoded data removed]"
          },
          "metadata": {
            "needs_background": "light"
          }
        }
      ]
    },
    {
      "cell_type": "markdown",
      "source": [
        "## 3.6 Compare analytical linear regression solution with mini-batch stochastic gradient descent based linear regression solution. What do you find?\n"
      ],
      "metadata": {
        "id": "rPJzgPd7NEtl"
      }
    },
    {
      "cell_type": "markdown",
      "source": [
        "We would argue that analytical linear regression and SGD both perform about the same. As observed in this image, the green line and the blue line are very close, thus showing a very similar performance.\n",
        "\n",
        "![image.png](data:image/png;base64,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)"
      ],
      "metadata": {
        "id": "fuvnxXu_GRNb"
      }
    },
    {
      "cell_type": "markdown",
      "source": [
        "## 3.7 Ploting the cost per Epoch for the Linear Regression"
      ],
      "metadata": {
        "id": "0_cnLopRs6Dy"
      }
    },
    {
      "cell_type": "code",
      "source": [
        "def plotCostperEpoch(model, trainSetRatio=0.8, batchSize=8, learningRate=0.1):\n",
        "    train, test = split_data(enb, trainSetRatio)\n",
        "    x = train[features]\n",
        "    y = train[targets]\n",
        "    testX = test[features]\n",
        "\n",
        "    optimizer = GradientDescent(learningRate, max_iters=10000, record_history=True, batch_size=batchSize)\n",
        "    LR = model\n",
        "\n",
        "    predictedHeatingLoad = LR.fit(x, y['Heating Load'], optimizer).predict(testX)\n",
        "\n",
        "    iterations = np.arange(len(optimizer.w_history))\n",
        "    costs = np.array(cost_history(x, y['Heating Load'], optimizer.w_history))\n",
        "\n",
        "    plt.plot(iterations, costs, label=('SGD mini-batch ' + str(batchSize), 'learning rate ' + str(learningRate)))\n",
        "    plt.xlabel('Epoch')\n",
        "    plt.ylabel('Cost')\n",
        "    plt.title('Cost per Epoch SGD Heating Load')\n",
        "\n",
        "def plotLossperEpoch(model, trainSetRatio=0.8, batchSize=8, learningRate=0.1):\n",
        "    train, test = split_data(enb, trainSetRatio)\n",
        "    x = train[features]\n",
        "    y = train[targets]\n",
        "    testX = test[features]\n",
        "\n",
        "    optimizer = GradientDescent(learningRate, max_iters=10000, record_history=True, batch_size=batchSize)\n",
        "    LR = model\n",
        "\n",
        "    heatingLoadModel = LR.fit(x, y['Heating Load'], optimizer)\n",
        "\n",
        "    losses = []\n",
        "\n",
        "\n",
        "    for w in optimizer.w_history:\n",
        "\n",
        "      heatingLoadModel.w = w\n",
        "      yh = heatingLoadModel.predict(x)\n",
        "\n",
        "      losses.append(mean_squared_error(y['Heating Load'], yh))\n",
        "\n",
        "    epochs = np.arange(len(optimizer.w_history))\n",
        "\n",
        "    plt.plot(epochs, losses, label=('SGD mini-batch ' + str(batchSize), 'learning rate ' + str(learningRate)))\n",
        "    plt.xlabel('Epoch')\n",
        "    plt.ylabel('MSE Loss')\n",
        "    plt.title('Loss per Epoch SGD Heating Load')\n",
        "\n",
        "\n",
        "\n",
        "    \n"
      ],
      "metadata": {
        "id": "23V8WH7Bs6Dz"
      },
      "execution_count": null,
      "outputs": []
    },
    {
      "cell_type": "code",
      "source": [
        "# Cost History Function\n",
        "\n",
        "def cost_history(x, y, wArr):\n",
        "    cost_history_arr = []\n",
        "    x = np.array(x)\n",
        "    y = np.array(y)\n",
        "    x = np.column_stack([x, np.ones(x.shape[0])])  # add bias by adding a constant feature of value 1\n",
        "    numSamples = x.shape[0]\n",
        "\n",
        "    for w in wArr:\n",
        "        w = w.reshape((1, w.shape[0]))\n",
        "        costArr = []\n",
        "\n",
        "        for i in range(numSamples):\n",
        "            costArr.append(0.5 * (y[i] - np.dot(w, x[i])) ** 2)\n",
        "\n",
        "        cost = np.sum(costArr) / numSamples\n",
        "        cost_history_arr.append(cost)\n",
        "    return cost_history_arr\n"
      ],
      "metadata": {
        "id": "kLfBk9aDtfaz"
      },
      "execution_count": null,
      "outputs": []
    },
    {
      "cell_type": "markdown",
      "source": [
        "### 3.7.1 Plotting cost per epoch based on different learning rates"
      ],
      "metadata": {
        "id": "2yCk49--tRJw"
      }
    },
    {
      "cell_type": "code",
      "source": [
        "batchSizes = [4,64, 640]\n",
        "for lr in [0.1, 0.01]:\n",
        "    for batchSize in batchSizes:\n",
        "        plotCostperEpoch(LinearRegressionOptimized(), learningRate=lr, batchSize=batchSize)\n",
        "plt.legend()\n",
        "plt.xlim([0, 100])\n",
        "plt.show()\n"
      ],
      "metadata": {
        "colab": {
          "base_uri": "https://localhost:8080/",
          "height": 295
        },
        "id": "3oPizLZKtQzh",
        "outputId": "a0a4085f-bbe8-43b7-f3bb-4992ba93e419"
      },
      "execution_count": null,
      "outputs": [
        {
          "output_type": "display_data",
          "data": {
            "text/plain": [
              "<Figure size 432x288 with 1 Axes>"
            ],
            "image/png": "[encoded data removed]"
          },
          "metadata": {
            "needs_background": "light"
          }
        }
      ]
    },
    {
      "cell_type": "markdown",
      "source": [
        "## Loss per Epoch\n",
        "\n"
      ],
      "metadata": {
        "id": "ByZF5qfeimj4"
      }
    },
    {
      "cell_type": "code",
      "source": [
        "\n",
        "for bSize in [4,1000]:\n",
        "  for lr in [0.01,0.5]:\n",
        "    plotLossperEpoch(LinearRegressionOptimized(), learningRate=lr, batchSize=bSize)\n",
        "\n",
        "plt.legend()\n",
        "plt.xlim([0, 1000])\n",
        "plt.show()"
      ],
      "metadata": {
        "colab": {
          "base_uri": "https://localhost:8080/",
          "height": 295
        },
        "id": "OxtbsQ3-inQv",
        "outputId": "373ec59b-9cc5-46d6-f524-f3347f1decd6"
      },
      "execution_count": null,
      "outputs": [
        {
          "output_type": "display_data",
          "data": {
            "text/plain": [
              "<Figure size 432x288 with 1 Axes>"
            ],
            "image/png": "[encoded data removed]"
          },
          "metadata": {
            "needs_background": "light"
          }
        }
      ]
    },
    {
      "cell_type": "markdown",
      "source": [
        "Notice that smaller batches converge faster due to their stochastic movement but with high learning rates they don't find the optimal solution. It's a matter of using the optimal learning rate accroding to the batch size.\n",
        "\n",
        "*SGD mini-batch 1000 is equivalent to a full batch"
      ],
      "metadata": {
        "id": "pj5e4bpDr96z"
      }
    }
  ]
}